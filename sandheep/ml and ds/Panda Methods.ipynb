{
 "cells": [
  {
   "cell_type": "markdown",
   "id": "64c1c16a",
   "metadata": {},
   "source": [
    "## <u>Panda array, scaler and data types</u>\n",
    "\n",
    "<img src='./panda images/panad array, scaler and data types.jpeg' alt=\"panda array, scaler and data types\" width=\"900px\"/>"
   ]
  },
  {
   "cell_type": "markdown",
   "id": "8afea9d7",
   "metadata": {},
   "source": [
    "## <u>Panda data offset methods</u>\n",
    "\n",
    "<img src='./panda images/panda data offset methods.jpeg' alt=\"panda data offset methods\" width=\"900px\"/>"
   ]
  },
  {
   "cell_type": "markdown",
   "id": "9eb15ff9",
   "metadata": {},
   "source": [
    "## <u>Panda dataframe methods</u>\n",
    "\n",
    "<img src='./panda images/panda dataframe methods.jpeg' alt=\"panda dataframe methods\" width=\"900px\"/>"
   ]
  },
  {
   "cell_type": "markdown",
   "id": "d5df4b2a",
   "metadata": {},
   "source": [
    "## <u>Panda extensions</u>\n",
    "\n",
    "<img src='./panda images/panda extensions.jpeg' alt=\"panda extensions\" width=\"900px\"/>"
   ]
  },
  {
   "cell_type": "markdown",
   "id": "9fbdb83c",
   "metadata": {},
   "source": [
    "## <u>Panda general function</u>\n",
    "\n",
    "<img src='./panda images/panda general function.jpeg' alt=\"panda general function\" width=\"900px\"/>"
   ]
  },
  {
   "cell_type": "markdown",
   "id": "f804f19e",
   "metadata": {},
   "source": [
    "## <u>Panda general utility methods</u>\n",
    "\n",
    "<img src='./panda images/panda general utility methods.jpeg' alt=\"panda general utility methods\" width=\"900px\"/>"
   ]
  },
  {
   "cell_type": "markdown",
   "id": "ad1f3923",
   "metadata": {},
   "source": [
    "## <u>Panda groupBy methods</u>\n",
    "\n",
    "<img src='./panda images/panda groupBy methods.jpeg' alt=\"panda groupBy methods\" width=\"900px\"/>"
   ]
  },
  {
   "cell_type": "markdown",
   "id": "da5656b9",
   "metadata": {},
   "source": [
    "## <u>Panda index object</u>\n",
    "\n",
    "<img src='./panda images/panda index object.jpeg' alt=\"panda index object\" width=\"900px\"/>"
   ]
  },
  {
   "cell_type": "markdown",
   "id": "6ee8ad58",
   "metadata": {},
   "source": [
    "## <u>Panda IO methods</u>\n",
    "\n",
    "<img src='./panda images/panda IO methods.jpeg' alt=\"panda IO methods\" width=\"900px\"/>"
   ]
  },
  {
   "cell_type": "markdown",
   "id": "8d4957f2",
   "metadata": {},
   "source": [
    "## <u>Panda plotting methods</u>\n",
    "\n",
    "<img src='./panda images/panda plotting methods.jpeg' alt=\"panda plotting methods\" width=\"900px\"/>"
   ]
  },
  {
   "cell_type": "markdown",
   "id": "c874c21c",
   "metadata": {},
   "source": [
    "## <u>Panda resampling methods</u>\n",
    "\n",
    "<img src='./panda images/panda sampling methods.jpeg' alt=\"panda sampling methods\" width=\"900px\"/>"
   ]
  },
  {
   "cell_type": "markdown",
   "id": "68230dba",
   "metadata": {},
   "source": [
    "## <u>Panda series methods</u>\n",
    "\n",
    "<img src='./panda images/panda series methods.jpeg' alt=\"panda series methods\" width=\"900px\"/>"
   ]
  }
 ],
 "metadata": {
  "kernelspec": {
   "display_name": "Python 3 (ipykernel)",
   "language": "python",
   "name": "python3"
  },
  "language_info": {
   "codemirror_mode": {
    "name": "ipython",
    "version": 3
   },
   "file_extension": ".py",
   "mimetype": "text/x-python",
   "name": "python",
   "nbconvert_exporter": "python",
   "pygments_lexer": "ipython3",
   "version": "3.9.12"
  }
 },
 "nbformat": 4,
 "nbformat_minor": 5
}
