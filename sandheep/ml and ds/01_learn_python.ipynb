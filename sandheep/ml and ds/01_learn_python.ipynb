{
 "cells": [
  {
   "cell_type": "markdown",
   "metadata": {},
   "source": [
    "### <u>Fundamental Data types</u>\n",
    "<img alt='data_type' width='500px' src='./images/data_types.jpeg'/>\n",
    "<img alt='data_type' width='900px' src='./images/data_type_examples.jpeg'/>\n",
    "\n",
    "--------------------------------------------------------------------------"
   ]
  },
  {
   "cell_type": "markdown",
   "metadata": {},
   "source": [
    "### <u>Keywords</u>\n",
    "<img width=\"900px\" alt='keywords' src='./images/Web capture_11-5-2022_151147_www.w3schools.com.jpeg'/>\n",
    "\n",
    "----------------------------------------------------------------------"
   ]
  },
  {
   "cell_type": "markdown",
   "metadata": {},
   "source": [
    "#### <u>Variable naming convention</u>\n",
    "- A variable name must start with a letter or the underscore character\n",
    "- A variable name cannot start with a number\n",
    "- A variable name can only contain alpha-numeric characters and underscores (A-z, 0-9, and _ )\n",
    "- Variable names are case-sensitive (age, Age and AGE are three different variables)"
   ]
  },
  {
   "cell_type": "markdown",
   "metadata": {},
   "source": [
    "#### <u>Python Variables - Assign Multiple Values</u>\n",
    "- x, y, z = \"Orange\", \"Banana\", \"Cherry\"\n",
    "- x = y = z = \"Orange\"\n",
    "- fruits = [\"apple\", \"banana\", \"cherry\"]<br>\n",
    "    x, y, z = fruits\n",
    "\n",
    "----------------------------------------------------------"
   ]
  },
  {
   "cell_type": "markdown",
   "metadata": {},
   "source": [
    "### <u>Python built-in functions</u>\n",
    "<img src='./images/Web capture_11-5-2022_15851_www.w3schools.com.jpeg' alt='built in function' width='900px'/>\n",
    "\n",
    "-----------------------------------------"
   ]
  },
  {
   "cell_type": "markdown",
   "metadata": {},
   "source": [
    "### <u>Math module</u>\n",
    "<img alt='python_math_module' width='900px' src='./images/python_math_methods.jpeg'>"
   ]
  },
  {
   "cell_type": "markdown",
   "metadata": {},
   "source": [
    "### <u>Complex Math module</u>\n",
    "<img alt='python_math_module' width='900px' src='./images/python_complex_math_module.jpeg'>"
   ]
  },
  {
   "cell_type": "markdown",
   "metadata": {},
   "source": [
    "### <u>Random module</u>\n",
    "<img alt='python_math_module' width='900px' src='./images/python_random_methods.jpeg'>\n",
    "\n",
    "----------------------------------------------------------------"
   ]
  },
  {
   "cell_type": "markdown",
   "metadata": {},
   "source": [
    "#### <u>Expression VS Statement</u>\n",
    "- a = 10 (statement)\n",
    "- b = a/2 (statement with expression)\n",
    "\n",
    "----------------------------------------------------"
   ]
  },
  {
   "cell_type": "markdown",
   "metadata": {},
   "source": [
    "#### <u>Augmented assignment operator</u>\n",
    "\n",
    "```\n",
    "some_value = 2\n",
    "some_value = some_value + 5\n",
    "```\n",
    "\n",
    "```\n",
    "some_value = 2\n",
    "some_value += 2\n",
    "```\n",
    "\n",
    "---------------------------------"
   ]
  },
  {
   "cell_type": "markdown",
   "metadata": {},
   "source": [
    "### <u>Strings</u>\n",
    "\n",
    "`string = 'Hello World!!'`\n",
    "```\n",
    "long_string = '''\n",
    "Hello\n",
    "World!!!\n",
    "'''\n",
    "```\n",
    "\n"
   ]
  },
  {
   "cell_type": "markdown",
   "metadata": {},
   "source": [
    ">#### String Methods\n",
    "\n",
    "<img src='./images/Web capture_11-5-2022_145444_www.w3schools.com.jpeg' alt='string methods' width='900px'/>"
   ]
  },
  {
   "cell_type": "markdown",
   "metadata": {},
   "source": [
    ">#### Escape sequence"
   ]
  },
  {
   "cell_type": "code",
   "execution_count": 2,
   "metadata": {},
   "outputs": [
    {
     "name": "stdout",
     "output_type": "stream",
     "text": [
      "\t It's \"kind of\" sunny \n",
      " Hope you have a good day\n"
     ]
    }
   ],
   "source": [
    "weather = '\\t It\\'s \\\"kind of\\\" sunny \\n Hope you have a good day'\n",
    "print(weather)"
   ]
  },
  {
   "cell_type": "markdown",
   "metadata": {},
   "source": [
    ">#### String formating"
   ]
  },
  {
   "cell_type": "code",
   "execution_count": null,
   "metadata": {},
   "outputs": [],
   "source": [
    "name = 'Sandheep'\n",
    "age = 23\n",
    "\n",
    "print('Hii ' + name + '. You are ' + str(age) + \" years old\")\n",
    "print(f'Hii {name}. You are {age} years old')\n",
    "print('Hii {}. You are {} years old'.format(name, age))\n",
    "print('Hii {name}. You are {new_age} years old'.format(name='Sally', new_age=25))"
   ]
  },
  {
   "cell_type": "markdown",
   "metadata": {},
   "source": [
    ">#### String Indexes"
   ]
  },
  {
   "cell_type": "code",
   "execution_count": null,
   "metadata": {},
   "outputs": [],
   "source": [
    "name = 'Sandheep'\n",
    "\n",
    "print(name)\n",
    "print(name[0], name[1])\n",
    "print(name[0:2], name[1:3], name[1:], name[:6])\n",
    "print(name[0:7:1], name[0:7:2], name[0:7:3], name[1:5:2])\n",
    "print(name[0::2], name[:7:2], name[::-1], name[::-2])\n",
    "print(name[0:8:-1]) #invalid"
   ]
  },
  {
   "cell_type": "markdown",
   "metadata": {},
   "source": [
    ">#### Strings as array\n",
    "```\n",
    "a = \"Hello, World!\"\n",
    "print(a[1])\n",
    "```\n",
    "\n",
    ">>#### Looping Through a String\n",
    "```\n",
    "for x in \"banana\":\n",
    "  print(x)\n",
    "```\n",
    "\n",
    ">>#### String Length\n",
    "```\n",
    "a = \"Hello, World!\"\n",
    "print(len(a))\n",
    "```\n",
    "\n",
    ">>#### Check String\n",
    "```\n",
    "txt = \"The best things in life are free!\"\n",
    "print(\"free\" in txt)\n",
    "\n",
    "if \"free\" in txt:\n",
    "  print(\"Yes, 'free' is present.\")\n",
    "```\n",
    "\n",
    ">>#### Check if NOT\n",
    "```\n",
    "txt = \"The best things in life are free!\"\n",
    "print(\"expensive\" not in txt)\n",
    "\n",
    "if \"expensive\" not in txt:\n",
    "  print(\"No, 'expensive' is NOT present.\")\n",
    "```\n",
    "\n",
    "------------------------------------------------------------"
   ]
  },
  {
   "cell_type": "markdown",
   "metadata": {},
   "source": [
    "### <u>Boolean</u>\n",
    "\n",
    "The bool() function allows you to evaluate any value, and give you True or False in return.\n",
    "\n",
    "Most Values are True\n",
    "- Almost any value is evaluated to True if it has some sort of content.\n",
    "- Any string is True, except empty strings.\n",
    "- Any number is True, except 0.\n",
    "- Any list, tuple, set, and dictionary are True, except empty ones.\n",
    "\n",
    "Some Values are False\n",
    "- bool(False)\n",
    "- bool(None)\n",
    "- bool(0)\n",
    "- bool(\"\")\n",
    "- bool(())\n",
    "- bool([])\n",
    "- bool({})\n",
    "\n",
    "----------------------------------------------"
   ]
  },
  {
   "cell_type": "markdown",
   "metadata": {},
   "source": [
    "### <u>Operators</u>\n",
    "Python divides the operators in the following groups:\n",
    "\n",
    ">- Arithmetic operators\n",
    ">- Assignment operators\n",
    ">- Comparison operators\n",
    ">- Logical operators\n",
    ">- Identity operators\n",
    ">- Membership operators\n",
    ">- Bitwise operators"
   ]
  },
  {
   "cell_type": "markdown",
   "metadata": {},
   "source": [
    ">#### Arithmetic Operators\n",
    "<img alt='data_type' width='900px' src='./images/arithmatic_operator.jpeg'/>"
   ]
  },
  {
   "cell_type": "markdown",
   "metadata": {},
   "source": [
    ">#### Assignment Operators\n",
    "<img alt='data_type' width='900px' src='./images/assignment_operators.jpeg'/>"
   ]
  },
  {
   "cell_type": "markdown",
   "metadata": {},
   "source": [
    ">#### Comparison  Operators\n",
    "<img alt='data_type' width='900px' src='./images/comparition_operator.jpeg'/>"
   ]
  },
  {
   "cell_type": "markdown",
   "metadata": {},
   "source": [
    ">#### Logical Operators\n",
    "<img alt='data_type' width='900px' src='./images/logical_operator.jpeg'/>"
   ]
  },
  {
   "cell_type": "markdown",
   "metadata": {},
   "source": [
    ">#### Identity Operators\n",
    "<img alt='data_type' width='900px' src='./images/identity_operator.jpeg'/>"
   ]
  },
  {
   "cell_type": "markdown",
   "metadata": {},
   "source": [
    ">#### Membership Operators\n",
    "<img alt='data_type' width='900px' src='./images/membership_operator.jpeg'/>"
   ]
  },
  {
   "cell_type": "markdown",
   "metadata": {},
   "source": [
    ">#### Bitwise Operators\n",
    "<img alt='data_type' width='900px' src='./images/bitwise_operator.jpeg'/>\n",
    "\n",
    "----------------------------------------------------------------------------------------------"
   ]
  },
  {
   "cell_type": "markdown",
   "metadata": {},
   "source": [
    "#### <u>Python Collections (Arrays)</u>\n",
    "\n",
    "There are four collection data types in the Python programming language:\n",
    "- List is a collection which is ordered and changeable. Allows duplicate members.\n",
    "- Tuple is a collection which is ordered and unchangeable. Allows duplicate members.\n",
    "- Set is a collection which is unordered, unchangeable*, and unindexed. No duplicate members.\n",
    "- Dictionary is a collection which is ordered** and changeable. No duplicate members."
   ]
  },
  {
   "cell_type": "markdown",
   "metadata": {},
   "source": [
    "##### List\n",
    "\n",
    ">- Ordered -: When we say that lists are ordered, it means that the items have a defined order, and that order will not change. If you add new items to a list, the new items will be placed at the end of the list.\n",
    ">- Changeable -: The list is changeable, meaning that we can change, add, and remove items in a list after it has been created.\n",
    ">- Allow Duplicates -: Since lists are indexed, lists can have items with the same value.\n",
    "\n",
    "\n",
    "##### Tuple\n",
    ">- Ordered -: When we say that tuples are ordered, it means that the items have a defined order, and that order will not change.\n",
    ">- Unchangeable -: Tuples are unchangeable, meaning that we cannot change, add or remove items after the tuple has been created.\n",
    ">- Allow Duplicates -: Since tuples are indexed, they can have items with the same value:\n",
    "\n",
    "\n",
    "##### Set\n",
    ">- Unordered -: Unordered means that the items in a set do not have a defined order. Set items can appear in a different order every time you use them, and cannot be referred to by index or key.\n",
    ">- Unchangeable -: Set items are unchangeable, meaning that we cannot change the items after the set has been created.\n",
    ">- Duplicates Not Allowed -: Sets cannot have two items with the same value.\n",
    "\n",
    "##### Dictionary\n",
    ">- Ordered or Unordered? -: As of Python version 3.7, dictionaries are ordered. In Python 3.6 and earlier, dictionaries are unordered. When we say that dictionaries are ordered, it means that the items have a defined order, and that order will not change. Unordered means that the items does not have a defined order, you cannot refer to an item by using an index.\n",
    ">- Changeable -: Dictionaries are changeable, meaning that we can change, add or remove items after the dictionary has been created.\n",
    ">- Duplicates Not Allowed -: Dictionaries cannot have two items with the same key.\n",
    "\n",
    "---------------------------------------------------------------------"
   ]
  },
  {
   "cell_type": "markdown",
   "metadata": {},
   "source": [
    ">#### List methods\n",
    "\n",
    "<img src='./images/Screenshot (162).png' alt='list methods' width='900px'/>"
   ]
  },
  {
   "cell_type": "markdown",
   "metadata": {},
   "source": [
    "##### Copying\n",
    "You cannot copy a list simply by typing list2 = list1, because: list2 will only be a reference to list1, and changes made in list1 will automatically also be made in list2.<br>\n",
    "\n",
    "```\n",
    "list1 = list2[:]\n",
    "list1 = list2.copy()\n",
    "list1 = list(list2)\n",
    "```"
   ]
  },
  {
   "cell_type": "markdown",
   "metadata": {},
   "source": [
    ">#### Tuple methods\n",
    "\n",
    "<img src='./images/tuple_methods.jpeg' alt='tuple methods' width='900px'/>"
   ]
  },
  {
   "cell_type": "markdown",
   "metadata": {},
   "source": [
    ">#### Set methods\n",
    "\n",
    "<img src='./images/set_methods.jpeg' alt='Set methods' width='900px'/>"
   ]
  },
  {
   "cell_type": "markdown",
   "metadata": {},
   "source": [
    ">#### Dictionary methods\n",
    "\n",
    "<img src='./images/dictionary_methods.png' alt='dictionary methods' width='900px'/>"
   ]
  }
 ],
 "metadata": {
  "interpreter": {
   "hash": "0c3cf9a22abeeadb135868b7c85ee8353922d82f169172db578d1e7fe2a2b5d5"
  },
  "kernelspec": {
   "display_name": "Python 3.10.0 64-bit",
   "language": "python",
   "name": "python3"
  },
  "language_info": {
   "codemirror_mode": {
    "name": "ipython",
    "version": 3
   },
   "file_extension": ".py",
   "mimetype": "text/x-python",
   "name": "python",
   "nbconvert_exporter": "python",
   "pygments_lexer": "ipython3",
   "version": "3.10.0"
  },
  "orig_nbformat": 4
 },
 "nbformat": 4,
 "nbformat_minor": 2
}
