{
 "cells": [
  {
   "cell_type": "code",
   "execution_count": 1,
   "metadata": {},
   "outputs": [
    {
     "name": "stdout",
     "output_type": "stream",
     "text": [
      "sorted basket  ['a', 'b', 'c', 'd', 'e', 'x']\n",
      "reversed basket ['x', 'e', 'd', 'c', 'b', 'a']\n",
      "new basket ['a', 'b', 'c', 'd', 'e', 'x']\n"
     ]
    }
   ],
   "source": [
    "basket = [\"a\", \"x\", \"c\", \"b\", \"e\", \"d\"]\n",
    "basket.sort()\n",
    "print(\"sorted basket \", basket)\n",
    "basket.reverse()\n",
    "print(\"reversed basket\", basket)\n",
    "new_basket = basket[::-1]\n",
    "\n",
    "print(\"new basket\", new_basket)\n"
   ]
  },
  {
   "cell_type": "code",
   "execution_count": 2,
   "metadata": {},
   "outputs": [
    {
     "name": "stdout",
     "output_type": "stream",
     "text": [
      "My name is Sandheep\n",
      "My-name-is-Sandheep\n",
      "My#name#is#Sandheep\n"
     ]
    }
   ],
   "source": [
    "sentance = \" \".join([\"My\", \"name\", \"is\", \"Sandheep\", ])\n",
    "hyphen_sentance = \"-\".join([\"My\", \"name\", \"is\", \"Sandheep\", ])\n",
    "hasktag_sentance = \"#\".join([\"My\", \"name\", \"is\", \"Sandheep\", ])\n",
    "\n",
    "print(sentance)\n",
    "print(hyphen_sentance)\n",
    "print(hasktag_sentance)\n"
   ]
  },
  {
   "cell_type": "markdown",
   "metadata": {},
   "source": [
    "#### List unpacking\n"
   ]
  },
  {
   "cell_type": "code",
   "execution_count": 3,
   "metadata": {},
   "outputs": [
    {
     "name": "stdout",
     "output_type": "stream",
     "text": [
      "1 2 3 [4, 5, 6, 7, 8, 9, 10, 11, 12, 13] 14 15 16 17 18 19\n"
     ]
    }
   ],
   "source": [
    "lst = list(range(1, 20))\n",
    "# a, b, c, d = lst => error\n",
    "a, b, c, *d, f, g, h, j, k, l = lst\n",
    "print(a, b, c, d, f, g, h, j, k, l)\n"
   ]
  },
  {
   "cell_type": "markdown",
   "metadata": {},
   "source": [
    "## <u>Dictionary</u>\n"
   ]
  },
  {
   "cell_type": "code",
   "execution_count": 4,
   "metadata": {},
   "outputs": [],
   "source": [
    "dictionary = {\n",
    "    123: 195,  # => valid\n",
    "    \"123\": 196,  # => valid\n",
    "    True: 197,  # => valid\n",
    "    # [1, 2, 3,]: 198 => invalid\n",
    "}\n",
    "\n",
    "# Reason being, key should not be mutable. Tuple can be used instead of list.\n"
   ]
  },
  {
   "cell_type": "code",
   "execution_count": 5,
   "metadata": {},
   "outputs": [
    {
     "name": "stdout",
     "output_type": "stream",
     "text": [
      "{'a': 1, 'b': 2, 'c': 3}\n",
      "1\n",
      "2\n",
      "3\n"
     ]
    }
   ],
   "source": [
    "dictionary = {\n",
    "    \"a\": 1,\n",
    "    \"b\": 2,\n",
    "    \"c\": 3,\n",
    "}\n",
    "\n",
    "print(dictionary)\n",
    "print(dictionary[\"a\"])\n",
    "print(dictionary[\"b\"])\n",
    "print(dictionary[\"c\"])\n"
   ]
  },
  {
   "cell_type": "code",
   "execution_count": 6,
   "metadata": {},
   "outputs": [],
   "source": [
    "user = {\n",
    "    \"name\": \"Golem\",\n",
    "    \"age\": 5006,\n",
    "    \"can_swim\": False\n",
    "}\n"
   ]
  },
  {
   "cell_type": "code",
   "execution_count": 7,
   "metadata": {},
   "outputs": [
    {
     "name": "stdout",
     "output_type": "stream",
     "text": [
      "name\n",
      "age\n",
      "can_swim\n"
     ]
    }
   ],
   "source": [
    "for item in user:\n",
    "    print(item)\n"
   ]
  },
  {
   "cell_type": "code",
   "execution_count": 8,
   "metadata": {},
   "outputs": [
    {
     "name": "stdout",
     "output_type": "stream",
     "text": [
      "('name', 'Golem')\n",
      "('age', 5006)\n",
      "('can_swim', False)\n"
     ]
    }
   ],
   "source": [
    "for item in user.items():\n",
    "    print(item)\n"
   ]
  },
  {
   "cell_type": "code",
   "execution_count": 9,
   "metadata": {},
   "outputs": [
    {
     "name": "stdout",
     "output_type": "stream",
     "text": [
      "name Golem\n",
      "age 5006\n",
      "can_swim False\n"
     ]
    }
   ],
   "source": [
    "for item in user.items():\n",
    "    key, value = item\n",
    "    print(key, value)\n"
   ]
  },
  {
   "cell_type": "code",
   "execution_count": 10,
   "metadata": {},
   "outputs": [
    {
     "name": "stdout",
     "output_type": "stream",
     "text": [
      "name Golem\n",
      "age 5006\n",
      "can_swim False\n"
     ]
    }
   ],
   "source": [
    "for key, value in user.items():\n",
    "    print(key, value)\n"
   ]
  },
  {
   "cell_type": "code",
   "execution_count": 11,
   "metadata": {},
   "outputs": [
    {
     "name": "stdout",
     "output_type": "stream",
     "text": [
      "Golem\n",
      "5006\n",
      "False\n"
     ]
    }
   ],
   "source": [
    "for item in user.values():\n",
    "    print(item)\n"
   ]
  },
  {
   "cell_type": "code",
   "execution_count": 12,
   "metadata": {},
   "outputs": [
    {
     "name": "stdout",
     "output_type": "stream",
     "text": [
      "name\n",
      "age\n",
      "can_swim\n"
     ]
    }
   ],
   "source": [
    "for item in user.keys():\n",
    "    print(item)\n"
   ]
  },
  {
   "cell_type": "markdown",
   "metadata": {},
   "source": [
    "---\n"
   ]
  },
  {
   "cell_type": "code",
   "execution_count": 13,
   "metadata": {},
   "outputs": [
    {
     "name": "stdout",
     "output_type": "stream",
     "text": [
      "['b', 'n']\n"
     ]
    }
   ],
   "source": [
    "some_list = [\"a\", \"b\", \"c\", \"b\", \"d\", \"m\", \"n\", \"n\"]\n",
    "new_list = []\n",
    "\n",
    "for index in range(len(some_list)):\n",
    "    if(some_list[index] in some_list[index+1:]):\n",
    "        new_list.append(some_list[index])\n",
    "\n",
    "print(new_list)"
   ]
  },
  {
   "cell_type": "code",
   "execution_count": 14,
   "metadata": {},
   "outputs": [
    {
     "name": "stdout",
     "output_type": "stream",
     "text": [
      "duplicates ['b', 'n']\n"
     ]
    }
   ],
   "source": [
    "duplicates = [some_list[index] for index in range(len(some_list)) if some_list[index] in some_list[index+1:]]\n",
    "print('duplicates', duplicates)"
   ]
  },
  {
   "cell_type": "markdown",
   "metadata": {},
   "source": [
    "<u>Ternary operator</u>\n",
    "\n",
    "> **code_to_be_ececuted_if_true if condition else code_to_be_ececuted_if_false**\n"
   ]
  },
  {
   "cell_type": "markdown",
   "metadata": {},
   "source": [
    "<u>Short circuting</u>\n",
    "\n",
    "> true or anything => only true will be executed and \"anything\" will be omitted then the corresponding block will be executed<br>\n",
    "> false or something => false as well as something will be executed, if \"something\" is True, the corresponding block will be executed else, it will be skipped\n",
    "\n",
    "> false and anything => only flase will be executed and \"anything\" will be omitted then the corresponding block will be skipped<br>\n",
    "> true and something => True as well as something will be executed, if \"something\" is True, the corresponding block will be executed else, it will be skipped\n"
   ]
  },
  {
   "cell_type": "markdown",
   "metadata": {},
   "source": [
    "<u>Keyword arguments vs Positional arguments vs Default parameter</u>\n",
    "\n",
    "```\n",
    "def treat(name, time):\n",
    "    print(f'Hello {name} at {time}')\n",
    "```\n",
    "\n",
    "> Positional arguments<br>\n",
    "> &nbsp;&nbsp;&nbsp;&nbsp; `name=\"sandheep\"`<br>\n",
    "> &nbsp;&nbsp;&nbsp;&nbsp; `time=\"12:15\"`<br>\n",
    "> &nbsp;&nbsp;&nbsp;&nbsp; `treat(name, time)`\n",
    "\n",
    "> Keyword argument<br>\n",
    "> &nbsp;&nbsp;&nbsp;&nbsp; `treat(time='11:15', name='Sandheep')`\n",
    "\n",
    "> Default parameter<br>\n",
    "> &nbsp;&nbsp;&nbsp;&nbsp;`name=\"sandheep\"`<br>\n",
    "> &nbsp;&nbsp;&nbsp;&nbsp;`treat(name, time='11:15'`\n"
   ]
  },
  {
   "cell_type": "markdown",
   "metadata": {},
   "source": [
    "<u>Docstrings - Provide description to a function</u>\n",
    "\n",
    "```\n",
    "def fun(a, b):\n",
    "    '''\n",
    "    This function returns sum of the values passed to this function\n",
    "    '''\n",
    "    return a+b\n",
    "```\n",
    "\n",
    "`help(fun)`<br>\n",
    "`print(fun.__doc__)`\n"
   ]
  },
  {
   "cell_type": "markdown",
   "metadata": {},
   "source": [
    "<u>\\*args and \\*\\*kwargs</u>\n",
    "\n",
    "```\n",
    "def super_fun(name, *args, i=\"hello\", **kwargs):\n",
    "    total = 0\n",
    "    for item in kwars.value()\n",
    "        total += item\n",
    "    return sum(args) + total\n",
    "\n",
    "super_fun(\"Sandheep\", 1,2,3,4,5,6,7, num1=10, num2=15)\n",
    "```\n"
   ]
  },
  {
   "cell_type": "code",
   "execution_count": 15,
   "metadata": {},
   "outputs": [
    {
     "name": "stdout",
     "output_type": "stream",
     "text": [
      "10\n"
     ]
    }
   ],
   "source": [
    "def highest_even(lst):\n",
    "    max = lst[0]\n",
    "    for item in lst:\n",
    "        if(item % 2 == 0 and item > max):\n",
    "            max = item\n",
    "    return max\n",
    "\n",
    "\n",
    "print(highest_even([10, 2, 3, 4, 8, 11]))\n"
   ]
  },
  {
   "cell_type": "markdown",
   "metadata": {},
   "source": [
    "<u>Rules for scope </u>\n",
    "\n",
    "- first checks locally\n",
    "- if not found in local, then goes to parent. If not found in parent, it goes to grandparent and so on\n",
    "- if not found in heirarchy, it will checks in global\n",
    "- if not found in global, it checks for python built in function, module"
   ]
  },
  {
   "cell_type": "code",
   "execution_count": 16,
   "metadata": {},
   "outputs": [
    {
     "name": "stdout",
     "output_type": "stream",
     "text": [
      "5\n",
      "12\n",
      "19\n",
      "('x is Local to outer but non local to inner.', 'y is Local to outer but non local to inner. Now, changed in inner using global', ' z is Local to outer but non local to inner. Now, changed in inner using nonlocal')\n",
      "('x is Local to outer but non local to inner.', 'y is Local to outer but non local to inner.', ' z is Local to outer but non local to inner. Now, changed in inner using nonlocal')\n"
     ]
    }
   ],
   "source": [
    "# Global , Local and Non-Local variable/scope\n",
    "\n",
    "b = 5\n",
    "\n",
    "def test1():\n",
    "    return b # will return b\n",
    "\n",
    "# def test2(): \n",
    "#     b += 7 # will throw an error\n",
    "#     return b\n",
    "\n",
    "def test3(): \n",
    "    global b\n",
    "    b += 7 # will reassign b globally\n",
    "    return b\n",
    "\n",
    "def test4(b):\n",
    "    b = b + 7\n",
    "    return b # will return modified b\n",
    "\n",
    "print(test1())\n",
    "# print(test2())\n",
    "print(test3())\n",
    "print(test4(b))\n",
    "\n",
    "\n",
    "\n",
    "def outer():\n",
    "    x = \"x is Local to outer but non local to inner.\"\n",
    "    y = \"y is Local to outer but non local to inner.\"\n",
    "    z = \"z is Local to outer but non local to inner.\"\n",
    "\n",
    "    def inner():\n",
    "        global y\n",
    "        y = \"y is Local to outer but non local to inner. Now, changed in inner using global\"\n",
    "        nonlocal z\n",
    "        z = \" z is Local to outer but non local to inner. Now, changed in inner using nonlocal\"\n",
    "        return x, y, z\n",
    "    print(inner())\n",
    "\n",
    "    return x, y, z\n",
    "\n",
    "print(outer())"
   ]
  },
  {
   "cell_type": "code",
   "execution_count": null,
   "metadata": {},
   "outputs": [],
   "source": []
  }
 ],
 "metadata": {
  "interpreter": {
   "hash": "0c3cf9a22abeeadb135868b7c85ee8353922d82f169172db578d1e7fe2a2b5d5"
  },
  "kernelspec": {
   "display_name": "Python 3.10.0 64-bit",
   "language": "python",
   "name": "python3"
  },
  "language_info": {
   "codemirror_mode": {
    "name": "ipython",
    "version": 3
   },
   "file_extension": ".py",
   "mimetype": "text/x-python",
   "name": "python",
   "nbconvert_exporter": "python",
   "pygments_lexer": "ipython3",
   "version": "3.10.0"
  },
  "orig_nbformat": 4
 },
 "nbformat": 4,
 "nbformat_minor": 2
}
