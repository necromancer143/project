{
 "cells": [
  {
   "cell_type": "markdown",
   "metadata": {},
   "source": [
    "# Markdown File syntex and examples "
   ]
  },
  {
   "cell_type": "markdown",
   "metadata": {},
   "source": [
    ">### 1. Headings"
   ]
  },
  {
   "cell_type": "markdown",
   "metadata": {},
   "source": [
    "<center>\n",
    "<img src='./images/heading/heading_syntex.jpeg' alt='heading' width='900px'/>\n",
    "</center>"
   ]
  },
  {
   "cell_type": "markdown",
   "metadata": {},
   "source": [
    "#### Alternate syntex"
   ]
  },
  {
   "cell_type": "markdown",
   "metadata": {},
   "source": [
    "<center>\n",
    "<img src='./images/heading/heading_syntex_alternate.jpeg' width='900px' alt='alternate heading syntex'/>\n",
    "</center>"
   ]
  },
  {
   "cell_type": "markdown",
   "metadata": {},
   "source": [
    "#### Best Practice"
   ]
  },
  {
   "cell_type": "markdown",
   "metadata": {},
   "source": [
    "<center>\n",
    "<img alt='heading best practice' width='900px' src='./images/heading/best_practice_heading.jpeg'/>\n",
    "<img alt='heading best practice' width='900px' src='./images/heading/best_practice_heading1.jpeg'/>\n",
    "</center>"
   ]
  },
  {
   "cell_type": "markdown",
   "metadata": {
    "vscode": {
     "languageId": "plaintext"
    }
   },
   "source": [
    ">### 2. Paragraph"
   ]
  },
  {
   "cell_type": "markdown",
   "metadata": {},
   "source": [
    "<center>\n",
    "<img src='./images/paragraph/paragraph_syntex.jpeg' alt='paragraph syntex' width='900px'/>\n",
    "</center>"
   ]
  },
  {
   "cell_type": "markdown",
   "metadata": {},
   "source": [
    "#### Best practice"
   ]
  },
  {
   "cell_type": "markdown",
   "metadata": {},
   "source": [
    "<figure>\n",
    "    <img src='./images/paragraph/best_practice_paragraph.jpeg' alt='image_best_pracice' width='900px'/>\n",
    "    <figcaption>Unless the paragraph is in a list, don’t indent paragraphs with spaces or tabs.</figcaption>\n",
    "</figure>"
   ]
  },
  {
   "cell_type": "markdown",
   "metadata": {},
   "source": [
    ">### 3. Line break"
   ]
  },
  {
   "cell_type": "markdown",
   "metadata": {},
   "source": [
    "<center>\n",
    "<img src='./images/line break/line_break.jpeg' alt='line_break' width='900px'/>\n",
    "</center>"
   ]
  },
  {
   "cell_type": "markdown",
   "metadata": {},
   "source": [
    "#### Best practice"
   ]
  },
  {
   "cell_type": "markdown",
   "metadata": {},
   "source": [
    "<center>\n",
    "<img alt='line break best practice' width='900px' src='./images/line break/line_break_best_practice.jpeg'/>\n",
    "</center>"
   ]
  },
  {
   "cell_type": "markdown",
   "metadata": {},
   "source": [
    ">### 4. Emphasis (Bold and Italic)"
   ]
  },
  {
   "cell_type": "markdown",
   "metadata": {},
   "source": [
    "<figure>\n",
    "<img alt='bold' width='900px' src='./images/emphasis/bold.jpeg'/>\n",
    "<figcaption>Bold</figcaption><br>\n",
    "\n",
    "<img alt='bold' width='900px' src='./images/emphasis/italic.jpeg'/>\n",
    "<figcaption>Italic</figcaption><br>\n",
    "\n",
    "<img alt='bold' width='900px' src='./images/emphasis/bold_and_italic.jpeg'/>\n",
    "<figcaption>Bold and Italic</figcaption><br>\n",
    "</figure>"
   ]
  },
  {
   "cell_type": "markdown",
   "metadata": {},
   "source": [
    "#### Best Practice"
   ]
  },
  {
   "cell_type": "markdown",
   "metadata": {},
   "source": [
    "<figure>\n",
    "<img alt='bold' width='900px' src='./images/emphasis/bold_best_practice.jpeg'/>\n",
    "<figcaption>Bold</figcaption><br>\n",
    "\n",
    "<img alt='bold' width='900px' src='./images/emphasis/italic_best_practice.jpeg'/>\n",
    "<figcaption>Italic</figcaption><br>\n",
    "\n",
    "<img alt='bold' width='900px' src='./images/emphasis/bold_and_italic_best_practice.jpeg'/>\n",
    "<figcaption>Bold and Italic</figcaption><br>\n",
    "</figure>"
   ]
  },
  {
   "cell_type": "markdown",
   "metadata": {},
   "source": [
    ">### 5. Blockquotes"
   ]
  },
  {
   "cell_type": "markdown",
   "metadata": {},
   "source": [
    "<figure>\n",
    "<img src='./images/blockquotes/blockquotes.jpeg' alt='' width='900px'/><br><br>\n",
    "\n",
    "<img alt='bold' width='900px' src='./images/blockquotes/blockquotes_with_multiple_paragraphs.jpeg'/>\n",
    "<figcaption>Blockquotes with Multiple Paragraphs</figcaption><br>\n",
    "\n",
    "<img alt='bold' width='900px' src='./images/blockquotes/blockquotes_with_multiple_paragraphs.jpeg'/>\n",
    "<figcaption>Nested Blockquotes</figcaption><br>\n",
    "\n",
    "<img alt='bold' width='900px' src='./images/blockquotes/blockquotes_with_other_elements.jpeg'/>\n",
    "<figcaption>Blockquotes with Other Elements</figcaption><br>\n",
    "</figure>"
   ]
  },
  {
   "cell_type": "markdown",
   "metadata": {},
   "source": [
    "#### Best practice"
   ]
  },
  {
   "cell_type": "markdown",
   "metadata": {},
   "source": [
    "<center>\n",
    "<img src='./images/blockquotes/blockquotes_best_practise.jpeg' alt='' width='900px'/>\n",
    "</center>"
   ]
  },
  {
   "cell_type": "markdown",
   "metadata": {},
   "source": [
    ">### 6. Ordered List"
   ]
  },
  {
   "cell_type": "markdown",
   "metadata": {},
   "source": [
    "<center>\n",
    "<img src='./images/ordered list/ordered_list.jpeg' alt='' width='900px'/>\n",
    "</center>"
   ]
  },
  {
   "cell_type": "markdown",
   "metadata": {},
   "source": [
    "#### Best Practice"
   ]
  },
  {
   "cell_type": "markdown",
   "metadata": {},
   "source": [
    "<center>\n",
    "<img src='./images/ordered list/ordered_list_best_practice.jpeg' alt='' width='900px'/>\n",
    "</center>"
   ]
  },
  {
   "cell_type": "markdown",
   "metadata": {},
   "source": [
    ">### 7. Unorderd List"
   ]
  },
  {
   "cell_type": "markdown",
   "metadata": {},
   "source": [
    "<figure>\n",
    "<img src='./images/unordered list/unordered_list.jpeg' alt='' width='900px'/>\n",
    "\n",
    "<img alt='bold' width='900px' src='./images/unordered list/unorderd_list_with_number.jpeg'/>\n",
    "<figcaption>Unorderd list with number</figcaption><br>\n",
    "</figure>"
   ]
  },
  {
   "cell_type": "markdown",
   "metadata": {},
   "source": [
    "#### Best Practice"
   ]
  },
  {
   "cell_type": "markdown",
   "metadata": {},
   "source": [
    "<center>\n",
    "<img src='./images/unordered list/unordered_list_best_practice.jpeg' alt='' width='900px'/>\n",
    "</center>"
   ]
  },
  {
   "cell_type": "markdown",
   "metadata": {},
   "source": [
    ">### 8. Code"
   ]
  },
  {
   "cell_type": "markdown",
   "metadata": {},
   "source": [
    "<center>\n",
    "<img src='./images/code.jpeg' alt='' width='900px'/>\n",
    "</center>"
   ]
  },
  {
   "cell_type": "markdown",
   "metadata": {},
   "source": [
    ">### 9. Escaping Backticks"
   ]
  },
  {
   "cell_type": "markdown",
   "metadata": {},
   "source": [
    "<center>\n",
    "<img src='./images/escaping_backticks.jpeg' alt='' width='900px'/>\n",
    "</center>"
   ]
  },
  {
   "cell_type": "markdown",
   "metadata": {},
   "source": [
    ">### 10. Code Blocks"
   ]
  },
  {
   "cell_type": "markdown",
   "metadata": {},
   "source": [
    "<center>\n",
    "<img src='./images/code_block.jpeg' alt='' width='900px'/>\n",
    "</center>"
   ]
  },
  {
   "cell_type": "markdown",
   "metadata": {},
   "source": [
    ">### 11. Horizontal Rules"
   ]
  },
  {
   "cell_type": "markdown",
   "metadata": {},
   "source": [
    "<center>\n",
    "<img src='./images/horizontal_rule.jpeg' alt='' width='900px'/>\n",
    "</center>"
   ]
  },
  {
   "cell_type": "markdown",
   "metadata": {},
   "source": [
    "#### Best practice"
   ]
  },
  {
   "cell_type": "markdown",
   "metadata": {},
   "source": [
    "<center>\n",
    "<img src='./images/hozizontal_rule_best_practice.jpeg' alt='' width='900px'/>\n",
    "</center>"
   ]
  },
  {
   "cell_type": "markdown",
   "metadata": {},
   "source": [
    ">### 12. Links"
   ]
  },
  {
   "cell_type": "markdown",
   "metadata": {},
   "source": [
    "<center>\n",
    "<img src='./images/links.jpeg' alt='' width='900px'/>\n",
    "</center>"
   ]
  },
  {
   "cell_type": "markdown",
   "metadata": {},
   "source": [
    "#### Best Practice"
   ]
  },
  {
   "cell_type": "markdown",
   "metadata": {},
   "source": [
    "<center>\n",
    "<img src='./images/link_best_practice.jpeg' alt='' width='900px'/>\n",
    "</center>"
   ]
  },
  {
   "cell_type": "markdown",
   "metadata": {},
   "source": [
    ">### 13. Images"
   ]
  },
  {
   "cell_type": "markdown",
   "metadata": {},
   "source": [
    "<center>\n",
    "<img src='./images/image.jpeg' alt='' width='900px'/>\n",
    "</center>"
   ]
  },
  {
   "cell_type": "markdown",
   "metadata": {},
   "source": [
    "#### Image as link"
   ]
  },
  {
   "cell_type": "markdown",
   "metadata": {},
   "source": [
    "<center>\n",
    "<img src='./images/image_as_link.jpeg' alt='' width='900px'/>\n",
    "</center>"
   ]
  }
 ],
 "metadata": {
  "language_info": {
   "name": "python"
  },
  "orig_nbformat": 4
 },
 "nbformat": 4,
 "nbformat_minor": 2
}
